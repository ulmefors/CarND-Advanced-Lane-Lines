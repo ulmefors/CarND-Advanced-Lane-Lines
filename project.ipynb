{
 "cells": [
  {
   "cell_type": "code",
   "execution_count": null,
   "metadata": {
    "collapsed": false
   },
   "outputs": [],
   "source": [
    "import numpy as np\n",
    "import cv2\n",
    "import glob\n",
    "import matplotlib.pyplot as plt\n",
    "import matplotlib.image as mpimg\n",
    "%matplotlib inline"
   ]
  },
  {
   "cell_type": "code",
   "execution_count": null,
   "metadata": {
    "collapsed": true
   },
   "outputs": [],
   "source": [
    "def undistort(img, mtx, dist):\n",
    "    return cv2.undistort(img, mtx, dist, None, mtx)\n",
    "\n",
    "\n",
    "def plot_comparison(img1, img2):\n",
    "    img1 = cv2.cvtColor(img1, cv2.COLOR_BGR2RGB)\n",
    "    img2 = cv2.cvtColor(img2, cv2.COLOR_BGR2RGB)\n",
    "    plt.subplot(1,2,1)\n",
    "    plt.imshow(img1)\n",
    "    plt.axis('off')\n",
    "    plt.subplot(1,2,2)\n",
    "    plt.imshow(img2)\n",
    "    plt.axis('off')"
   ]
  },
  {
   "cell_type": "code",
   "execution_count": null,
   "metadata": {
    "collapsed": false
   },
   "outputs": [],
   "source": [
    "images = []\n",
    "\n",
    "img, gray, img_corners, img_original = None, None, None, None\n",
    "\n",
    "objpoints, imgpoints = [], []\n",
    "\n",
    "image_files = glob.glob('camera_cal/calibration*.jpg')\n",
    "\n",
    "for fname in image_files:\n",
    "\n",
    "    nx, ny = 9, 6\n",
    "\n",
    "    if 'calibration1.jpg' in fname:\n",
    "        nx, ny = 9, 5\n",
    "    if 'calibration4.jpg' in fname:\n",
    "        nx, ny = 6, 5\n",
    "    if 'calibration5.jpg' in fname:\n",
    "        nx, ny = 7, 6\n",
    "\n",
    "    img = cv2.imread(fname)\n",
    "\n",
    "    # Convert to grayscale\n",
    "    gray = cv2.cvtColor(img, cv2.COLOR_BGR2GRAY)\n",
    "\n",
    "    # Find the chessboard corners\n",
    "    ret, corners = cv2.findChessboardCorners(gray, (nx, ny), None)\n",
    "    \n",
    "    # Save example image and corresponding identified corners\n",
    "    if 'calibration2.jpg' in fname:\n",
    "        img_original = img.copy()\n",
    "        img_corners = img.copy()\n",
    "        img_corners = cv2.drawChessboardCorners(img_corners, (nx, ny), corners, ret)\n",
    "        cv2.imwrite('output_images/chessboard_original.jpg', img_original)\n",
    "        cv2.imwrite('output_images/chessboard_corners.jpg', img_corners)\n",
    "\n",
    "    objp = np.zeros((nx*ny, 3), np.float32)\n",
    "    objp[:, :2] = np.mgrid[0:nx, 0:ny].T.reshape(-1, 2)\n",
    "\n",
    "    if ret == True:\n",
    "        objpoints.append(objp)\n",
    "        imgpoints.append(corners)\n",
    "        images.append(img)\n",
    "    else:\n",
    "        print('Did not find corners', fname, (nx, ny))\n",
    "\n",
    "plot_comparison(img_original, img_corners)\n",
    "\n",
    "ret, mtx, dist, rvecs, tvecs = cv2.calibrateCamera(objpoints, imgpoints, gray.shape[::-1], None, None)\n",
    "print('Camera calibrated using {0} images'.format(np.array(images).shape[0]))"
   ]
  },
  {
   "cell_type": "code",
   "execution_count": null,
   "metadata": {
    "collapsed": false
   },
   "outputs": [],
   "source": [
    "test_dir = 'test_images'\n",
    "out_dir = 'output_images'\n",
    "image_files = glob.glob(test_dir + '/*.jpg')\n",
    "\n",
    "for fname in image_files:\n",
    "    img = cv2.imread(fname)\n",
    "    undist = undistort(img, mtx, dist)\n",
    "    \n",
    "    fname = fname.replace(test_dir, out_dir)\n",
    "    cv2.imwrite(fname, undist)\n",
    "    \n",
    "    plot_comparison(img, undist)"
   ]
  },
  {
   "cell_type": "code",
   "execution_count": null,
   "metadata": {
    "collapsed": true
   },
   "outputs": [],
   "source": []
  }
 ],
 "metadata": {
  "anaconda-cloud": {},
  "kernelspec": {
   "display_name": "Python [conda root]",
   "language": "python",
   "name": "conda-root-py"
  },
  "language_info": {
   "codemirror_mode": {
    "name": "ipython",
    "version": 3
   },
   "file_extension": ".py",
   "mimetype": "text/x-python",
   "name": "python",
   "nbconvert_exporter": "python",
   "pygments_lexer": "ipython3",
   "version": "3.5.2"
  }
 },
 "nbformat": 4,
 "nbformat_minor": 0
}
