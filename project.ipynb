{
 "cells": [
  {
   "cell_type": "code",
   "execution_count": null,
   "metadata": {
    "collapsed": false
   },
   "outputs": [],
   "source": [
    "import numpy as np\n",
    "import cv2\n",
    "import glob\n",
    "import matplotlib.pyplot as plt\n",
    "import matplotlib.image as mpimg\n",
    "%matplotlib inline"
   ]
  },
  {
   "cell_type": "code",
   "execution_count": null,
   "metadata": {
    "collapsed": true
   },
   "outputs": [],
   "source": [
    "def undistort(img, mtx, dist):\n",
    "    return cv2.undistort(img, mtx, dist, None, mtx)\n",
    "\n",
    "\n",
    "def plot_comparison(img1, img2):\n",
    "    img1 = cv2.cvtColor(img1, cv2.COLOR_BGR2RGB)\n",
    "    img2 = cv2.cvtColor(img2, cv2.COLOR_BGR2RGB)\n",
    "    plt.subplot(1,2,1)\n",
    "    plt.imshow(img1)\n",
    "    plt.axis('off')\n",
    "    plt.subplot(1,2,2)\n",
    "    plt.imshow(img2)\n",
    "    plt.axis('off')"
   ]
  },
  {
   "cell_type": "code",
   "execution_count": null,
   "metadata": {
    "collapsed": false
   },
   "outputs": [],
   "source": [
    "images = []\n",
    "\n",
    "img, gray, img_corners, img_original = None, None, None, None\n",
    "\n",
    "objpoints, imgpoints = [], []\n",
    "\n",
    "image_files = glob.glob('camera_cal/calibration*.jpg')\n",
    "\n",
    "for fname in image_files:\n",
    "\n",
    "    nx, ny = 9, 6\n",
    "\n",
    "    if 'calibration1.jpg' in fname:\n",
    "        nx, ny = 9, 5\n",
    "    if 'calibration4.jpg' in fname:\n",
    "        nx, ny = 6, 5\n",
    "    if 'calibration5.jpg' in fname:\n",
    "        nx, ny = 7, 6\n",
    "\n",
    "    img = cv2.imread(fname)\n",
    "\n",
    "    # Convert to grayscale\n",
    "    gray = cv2.cvtColor(img, cv2.COLOR_BGR2GRAY)\n",
    "\n",
    "    # Find the chessboard corners\n",
    "    ret, corners = cv2.findChessboardCorners(gray, (nx, ny), None)\n",
    "    \n",
    "    # Save example image and corresponding identified corners\n",
    "    if 'calibration2.jpg' in fname:\n",
    "        img_original = img.copy()\n",
    "        img_corners = img.copy()\n",
    "        img_corners = cv2.drawChessboardCorners(img_corners, (nx, ny), corners, ret)\n",
    "        cv2.imwrite('output_images/chessboard_original.jpg', img_original)\n",
    "        cv2.imwrite('output_images/chessboard_corners.jpg', img_corners)\n",
    "\n",
    "    objp = np.zeros((nx*ny, 3), np.float32)\n",
    "    objp[:, :2] = np.mgrid[0:nx, 0:ny].T.reshape(-1, 2)\n",
    "\n",
    "    if ret == True:\n",
    "        objpoints.append(objp)\n",
    "        imgpoints.append(corners)\n",
    "        images.append(img)\n",
    "    else:\n",
    "        print('Did not find corners', fname, (nx, ny))\n",
    "\n",
    "plot_comparison(img_original, img_corners)\n",
    "\n",
    "ret, mtx, dist, rvecs, tvecs = cv2.calibrateCamera(objpoints, imgpoints, gray.shape[::-1], None, None)\n",
    "print('Camera calibrated using {0} images'.format(np.array(images).shape[0]))"
   ]
  },
  {
   "cell_type": "code",
   "execution_count": null,
   "metadata": {
    "collapsed": false
   },
   "outputs": [],
   "source": [
    "test_dir = 'test_images/'\n",
    "cal_dir = 'camera_cal/'\n",
    "out_dir = 'output_images/'\n",
    "\n",
    "image_files = glob.glob(test_dir + '*.jpg')\n",
    "\n",
    "for fname in image_files:\n",
    "    img = cv2.imread(fname)\n",
    "    undist = undistort(img, mtx, dist)\n",
    "    \n",
    "    fname = fname.replace(test_dir, out_dir)\n",
    "    cv2.imwrite(fname, undist)\n",
    "    \n",
    "    plot_comparison(img, undist)\n",
    "    \n",
    "\n",
    "cal_img_orig = cv2.imread(cal_dir + 'calibration2.jpg')\n",
    "cal_img_undist = undistort(cal_img_orig, mtx, dist)\n",
    "cv2.imwrite(out_dir + 'chessboard_undistort.jpg', cal_img_undist)\n"
   ]
  },
  {
   "cell_type": "code",
   "execution_count": null,
   "metadata": {
    "collapsed": false
   },
   "outputs": [],
   "source": [
    "# Camera calibration sample image and corresponding parameters\n",
    "cal_file = 'calibration12'\n",
    "nx, ny = 9, 6\n",
    "offset = 100 \n",
    "x, y = gray.shape[::-1]\n",
    "\n",
    "# Read image file, undistort, covert to grayscale and find chessboard corners\n",
    "cal_img_orig = cv2.imread(cal_dir + cal_file + '.jpg')\n",
    "cal_img_undist = undistort(cal_img_orig, mtx, dist)\n",
    "gray = cv2.cvtColor(cal_img_undist, cv2.COLOR_BGR2GRAY)\n",
    "ret, corners = cv2.findChessboardCorners(gray, (nx, ny), None)\n",
    "\n",
    "# Identify outer corners. Top-left, top-right, bottom-left, bottom-right.\n",
    "src = np.float32([corners[0][0], corners[nx-1][0], corners[nx*(ny-1)][0], corners[nx*ny-1][0]])\n",
    "\n",
    "# Create rectangle with corners positioned with a distance [offset, offset] from image frame corners\n",
    "dst = np.float32([[offset, offset],[x-offset, offset],[offset, y-offset],[x-offset, y-offset]])\n",
    "\n",
    "# Get perspective transform matrix\n",
    "M = cv2.getPerspectiveTransform(src, dst)\n",
    "\n",
    "# Calculate top-down image using perspective transform matrix\n",
    "warped = cv2.warpPerspective(cal_img_undist, M, (x, y), flags=cv2.INTER_LINEAR)\n",
    "\n",
    "# Plot comparison\n",
    "plot_comparison(cal_img_orig, warped)\n",
    "\n",
    "# Save example images to disk\n",
    "cv2.imwrite(out_dir + cal_file + '_original.jpg', cal_img_orig)\n",
    "cv2.imwrite(out_dir + cal_file + '_perspective_transform.jpg', warped)"
   ]
  },
  {
   "cell_type": "code",
   "execution_count": null,
   "metadata": {
    "collapsed": false
   },
   "outputs": [],
   "source": [
    "def get_undistorted_image(fname, mtx, dist, gray_scale=False):\n",
    "    img_orig = cv2.imread(fname)\n",
    "    img_undist = undistort(img_orig, mtx, dist)\n",
    "    color_profile = cv2.COLOR_BGR2GRAY if gray_scale else cv2.COLOR_BGR2RGB\n",
    "    return cv2.cvtColor(img_undist, color_profile)"
   ]
  },
  {
   "cell_type": "code",
   "execution_count": null,
   "metadata": {
    "collapsed": false
   },
   "outputs": [],
   "source": [
    "fname = out_dir + 'straight_lines1.jpg'\n",
    "gray = get_undistorted_image(fname, mtx, dist, gray_scale=True)\n",
    "sobelx = cv2.Sobel(gray, cv2.CV_64F, 1, 0)\n",
    "abs_sobelx = np.absolute(sobelx)\n",
    "scaled_sobel = np.uint8(255*abs_sobelx/np.max(abs_sobelx))\n",
    "thresh_min = 40\n",
    "thresh_max = 100\n",
    "sxbinary = np.zeros_like(scaled_sobel)\n",
    "sxbinary[(scaled_sobel >= thresh_min) & (scaled_sobel <= thresh_max)] = 1\n",
    "plt.imshow(sxbinary, cmap='gray')"
   ]
  },
  {
   "cell_type": "code",
   "execution_count": null,
   "metadata": {
    "collapsed": true
   },
   "outputs": [],
   "source": []
  },
  {
   "cell_type": "code",
   "execution_count": null,
   "metadata": {
    "collapsed": true
   },
   "outputs": [],
   "source": []
  }
 ],
 "metadata": {
  "anaconda-cloud": {},
  "kernelspec": {
   "display_name": "Python [conda root]",
   "language": "python",
   "name": "conda-root-py"
  },
  "language_info": {
   "codemirror_mode": {
    "name": "ipython",
    "version": 3
   },
   "file_extension": ".py",
   "mimetype": "text/x-python",
   "name": "python",
   "nbconvert_exporter": "python",
   "pygments_lexer": "ipython3",
   "version": "3.5.2"
  }
 },
 "nbformat": 4,
 "nbformat_minor": 0
}
