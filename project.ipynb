{
 "cells": [
  {
   "cell_type": "code",
   "execution_count": 16,
   "metadata": {
    "collapsed": false
   },
   "outputs": [],
   "source": [
    "import numpy as np\n",
    "import cv2\n",
    "import glob\n",
    "import matplotlib.pyplot as plt\n",
    "import matplotlib.image as mpimg\n",
    "%matplotlib inline\n",
    "\n",
    "image_files = glob.glob('camera_cal/calibration*.jpg')\n",
    "images = []\n",
    "\n",
    "img, gray = None, None\n",
    "\n",
    "objpoints, imgpoints = [], []\n",
    "\n",
    "for fname in image_files:\n",
    "\n",
    "    nx, ny = 9, 6\n",
    "\n",
    "    if 'calibration1.jpg' in fname:\n",
    "        nx, ny = 9, 5\n",
    "    if 'calibration4.jpg' in fname:\n",
    "        nx, ny = 6, 5\n",
    "    if 'calibration5.jpg' in fname:\n",
    "        nx, ny = 7, 6\n",
    "\n",
    "    img = cv2.imread(fname)\n",
    "\n",
    "    images.append(img)\n",
    "    \n",
    "    # Convert to grayscale\n",
    "    gray = cv2.cvtColor(img, cv2.COLOR_BGR2GRAY)\n",
    "\n",
    "    # Find the chessboard corners\n",
    "    ret, corners = cv2.findChessboardCorners(gray, (nx, ny), None)\n",
    "\n",
    "    objp = np.zeros((nx*ny,3), np.float32)\n",
    "    objp[:,:2] = np.mgrid[0:nx,0:ny].T.reshape(-1,2)\n",
    "\n",
    "    if ret == True:\n",
    "        objpoints.append(objp)\n",
    "        imgpoints.append(corners)\n",
    "    else:\n",
    "        print('Did not find corners', fname, (nx, ny))\n",
    "        \n",
    "\n",
    "def plot_chessboard(img):\n",
    "   \n",
    "    ret, mtx, dist, rvecs, tvecs = cv2.calibrateCamera(objpoints, imgpoints, gray.shape[::-1],None,None)\n",
    "\n",
    "    dst = cv2.undistort(img, mtx, dist, None, mtx)\n",
    "\n",
    "    plt.subplot(1,2,1)\n",
    "    plt.imshow(img)\n",
    "    plt.axis('off')\n",
    "    plt.subplot(1,2,2)\n",
    "    plt.imshow(dst)\n",
    "    plt.axis('off')\n",
    "    \n",
    "    \n",
    "ret, mtx, dist, rvecs, tvecs = cv2.calibrateCamera(objpoints, imgpoints, gray.shape[::-1],None,None)\n",
    "\n",
    "dst = cv2.undistort(img, mtx, dist, None, mtx)"
   ]
  }
 ],
 "metadata": {
  "anaconda-cloud": {},
  "kernelspec": {
   "display_name": "Python [conda root]",
   "language": "python",
   "name": "conda-root-py"
  },
  "language_info": {
   "codemirror_mode": {
    "name": "ipython",
    "version": 3
   },
   "file_extension": ".py",
   "mimetype": "text/x-python",
   "name": "python",
   "nbconvert_exporter": "python",
   "pygments_lexer": "ipython3",
   "version": "3.5.2"
  }
 },
 "nbformat": 4,
 "nbformat_minor": 0
}
